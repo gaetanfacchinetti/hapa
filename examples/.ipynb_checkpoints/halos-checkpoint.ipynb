{
 "cells": [
  {
   "cell_type": "code",
   "execution_count": null,
   "metadata": {},
   "outputs": [
    {
     "ename": "",
     "evalue": "",
     "output_type": "error",
     "traceback": [
      "\u001b[1;31mÉchec du démarrage du Kernel. \n",
      "\u001b[1;31mJupyter server crashed. Unable to connect. \n",
      "\u001b[1;31mError code from Jupyter: 1\n",
      "\u001b[1;31musage: jupyter.py [-h] [--version] [--config-dir] [--data-dir] [--runtime-dir]\n",
      "\u001b[1;31m                  [--paths] [--json] [--debug]\n",
      "\u001b[1;31m                  [subcommand]\n",
      "\u001b[1;31m\n",
      "\u001b[1;31mJupyter: Interactive Computing\n",
      "\u001b[1;31m\n",
      "\u001b[1;31mpositional arguments:\n",
      "\u001b[1;31m  subcommand     the subcommand to launch\n",
      "\u001b[1;31m\n",
      "\u001b[1;31moptional arguments:\n",
      "\u001b[1;31m  -h, --help     show this help message and exit\n",
      "\u001b[1;31m  --version      show the versions of core jupyter packages and exit\n",
      "\u001b[1;31m  --config-dir   show Jupyter config dir\n",
      "\u001b[1;31m  --data-dir     show Jupyter data dir\n",
      "\u001b[1;31m  --runtime-dir  show Jupyter runtime dir\n",
      "\u001b[1;31m  --paths        show all Jupyter paths. Add --json for machine-readable\n",
      "\u001b[1;31m                 format.\n",
      "\u001b[1;31m  --json         output paths as machine-readable json\n",
      "\u001b[1;31m  --debug        output debug information about paths\n",
      "\u001b[1;31m\n",
      "\u001b[1;31mAvailable subcommands:\n",
      "\u001b[1;31m\n",
      "\u001b[1;31mJupyter command `jupyter-notebook` not found. \n",
      "\u001b[1;31mPour plus d’informations, consultez Jupyter <a href='command:jupyter.viewOutput'>log</a>."
     ]
    }
   ],
   "source": [
    "import astropy.cosmology\n",
    "\n",
    "#import ../src/pyhapa as hapa"
   ]
  },
  {
   "cell_type": "code",
   "execution_count": null,
   "id": "b3294dcd",
   "metadata": {},
   "outputs": [],
   "source": [
    "def rhos_D18(zf: float) -> float:\n",
    "    rhom_0 = astropy.cosmology.Planck18.Om(0) * astropy.cosmology.Planck18.critical_density(0)\n",
    "    return 30 * rhom_0.to('M_sun/kpc**3') * (1.+zf)**3\n",
    "\n",
    "def rs_D18(zf: float, k_star) -> float:\n",
    "    return 0.7 / k_star.to('1/kpc')  / (1.+zf)\n",
    "\n",
    "def c_delta_Maccio(zf: float, z: float, is_critical: bool = True, cosmo = DEFAULT_COSMO):\n",
    "    rhoc_zf = rho_ref(cosmo, zf, is_critical)\n",
    "    rhoc_z  = rho_ref(cosmo, z, is_critical)\n",
    "    K = 4.2 # Numerical value tabulated from simulations\n",
    "    return K * (rhoc_zf / rhoc_z)**(1./3.)"
   ]
  },
  {
   "cell_type": "code",
   "execution_count": null,
   "id": "c956ded5",
   "metadata": {},
   "outputs": [],
   "source": []
  }
 ],
 "metadata": {
  "kernelspec": {
   "display_name": "Python 3",
   "language": "python",
   "name": "python3"
  },
  "language_info": {
   "name": "python",
   "version": "3.8.9"
  },
  "vscode": {
   "interpreter": {
    "hash": "31f2aee4e71d21fbe5cf8b01ff0e069b9275f58929596ceb00d14d90e3e16cd6"
   }
  }
 },
 "nbformat": 4,
 "nbformat_minor": 5
}
