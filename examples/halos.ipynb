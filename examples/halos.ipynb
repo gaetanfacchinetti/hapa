{
 "cells": [
  {
   "cell_type": "code",
   "execution_count": 3,
   "id": "bf6b1287",
   "metadata": {},
   "outputs": [],
   "source": [
    "import numpy as np\n",
    "import pyhapa as hapa"
   ]
  },
  {
   "cell_type": "code",
   "execution_count": null,
   "id": "b3294dcd",
   "metadata": {},
   "outputs": [],
   "source": [
    "def rhos_D18(zf: float) -> float:\n",
    "    rhom_0 = astropy.cosmology.Planck18.Om(0) * astropy.cosmology.Planck18.critical_density(0)\n",
    "    return 30 * rhom_0.to('M_sun/kpc**3') * (1.+zf)**3\n",
    "\n",
    "def rs_D18(zf: float, k_star) -> float:\n",
    "    return 0.7 / k_star.to('1/kpc')  / (1.+zf)\n",
    "\n",
    "def c_delta_Maccio(zf: float, z: float, is_critical: bool = True, cosmo = DEFAULT_COSMO):\n",
    "    rhoc_zf = rho_ref(cosmo, zf, is_critical)\n",
    "    rhoc_z  = rho_ref(cosmo, z, is_critical)\n",
    "    K = 4.2 # Numerical value tabulated from simulations\n",
    "    return K * (rhoc_zf / rhoc_z)**(1./3.)"
   ]
  },
  {
   "cell_type": "code",
   "execution_count": 7,
   "id": "c956ded5",
   "metadata": {},
   "outputs": [],
   "source": [
    "hprofile = hapa.ABGHaloProfile(1, 3, 1)"
   ]
  },
  {
   "cell_type": "code",
   "execution_count": 9,
   "id": "1a4d9cee-566c-4e80-8dc1-f3bf0ff98138",
   "metadata": {},
   "outputs": [
    {
     "data": {
      "text/plain": [
       "0.12400793650793653"
      ]
     },
     "execution_count": 9,
     "metadata": {},
     "output_type": "execute_result"
    }
   ],
   "source": [
    "hprofile.density_profile(1.4)"
   ]
  },
  {
   "cell_type": "code",
   "execution_count": null,
   "id": "fdb5b395-0d27-48c6-af2f-358ea76144a5",
   "metadata": {},
   "outputs": [],
   "source": []
  }
 ],
 "metadata": {
  "kernelspec": {
   "display_name": "Python 3 (ipykernel)",
   "language": "python",
   "name": "python3"
  },
  "language_info": {
   "codemirror_mode": {
    "name": "ipython",
    "version": 3
   },
   "file_extension": ".py",
   "mimetype": "text/x-python",
   "name": "python",
   "nbconvert_exporter": "python",
   "pygments_lexer": "ipython3",
   "version": "3.10.4"
  },
  "vscode": {
   "interpreter": {
    "hash": "31f2aee4e71d21fbe5cf8b01ff0e069b9275f58929596ceb00d14d90e3e16cd6"
   }
  }
 },
 "nbformat": 4,
 "nbformat_minor": 5
}
