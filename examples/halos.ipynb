{
 "cells": [
  {
   "cell_type": "code",
   "execution_count": 3,
   "id": "bf6b1287",
   "metadata": {},
   "outputs": [
    {
     "name": "stdout",
     "output_type": "stream",
     "text": [
      "The autoreload extension is already loaded. To reload it, use:\n",
      "  %reload_ext autoreload\n"
     ]
    }
   ],
   "source": [
    "import numpy as np\n",
    "import hapa as hp\n",
    "\n",
    "%load_ext autoreload\n",
    "%autoreload 2"
   ]
  },
  {
   "cell_type": "code",
   "execution_count": 1,
   "id": "5c8c48a4",
   "metadata": {},
   "outputs": [
    {
     "name": "stdout",
     "output_type": "stream",
     "text": [
      "47.1 µs ± 150 ns per loop (mean ± std. dev. of 7 runs, 10,000 loops each)\n"
     ]
    }
   ],
   "source": [
    "import numpy as np\n",
    "from hapa import cosmology as cosmo\n",
    "from hapa import params\n",
    "from hapa import Quantity\n",
    "from hapa import units\n",
    "import hapa\n",
    "\n",
    "#hapa.mass_vs_lagrangian_radius(Quantity(np.logspace(1, 10, 100000), units.Mpc))\n",
    "\n",
    "%timeit hapa.mass_vs_lagrangian_radius(3)"
   ]
  },
  {
   "cell_type": "code",
   "execution_count": null,
   "id": "b3294dcd",
   "metadata": {},
   "outputs": [],
   "source": [
    "def rhos_D18(zf: float) -> float:\n",
    "    rhom_0 = astropy.cosmology.Planck18.Om(0) * astropy.cosmology.Planck18.critical_density(0)\n",
    "    return 30 * rhom_0.to('M_sun/kpc**3') * (1.+zf)**3\n",
    "\n",
    "def rs_D18(zf: float, k_star) -> float:\n",
    "    return 0.7 / k_star.to('1/kpc')  / (1.+zf)\n",
    "\n",
    "def c_delta_Maccio(zf: float, z: float, is_critical: bool = True, cosmo = DEFAULT_COSMO):\n",
    "    rhoc_zf = rho_ref(cosmo, zf, is_critical)\n",
    "    rhoc_z  = rho_ref(cosmo, z, is_critical)\n",
    "    K = 4.2 # Numerical value tabulated from simulations\n",
    "    return K * (rhoc_zf / rhoc_z)**(1./3.)"
   ]
  },
  {
   "cell_type": "code",
   "execution_count": 7,
   "id": "c956ded5",
   "metadata": {},
   "outputs": [],
   "source": []
  },
  {
   "cell_type": "code",
   "execution_count": 9,
   "id": "1a4d9cee-566c-4e80-8dc1-f3bf0ff98138",
   "metadata": {},
   "outputs": [
    {
     "data": {
      "text/plain": [
       "0.12400793650793653"
      ]
     },
     "execution_count": 9,
     "metadata": {},
     "output_type": "execute_result"
    }
   ],
   "source": [
    "hprofile.density_profile(1.4)"
   ]
  },
  {
   "cell_type": "code",
   "execution_count": 4,
   "id": "fdb5b395-0d27-48c6-af2f-358ea76144a5",
   "metadata": {},
   "outputs": [
    {
     "name": "stdout",
     "output_type": "stream",
     "text": [
      "The autoreload extension is already loaded. To reload it, use:\n",
      "  %reload_ext autoreload\n",
      "1.49 µs ± 33 ns per loop (mean ± std. dev. of 7 runs, 1,000,000 loops each)\n"
     ]
    }
   ],
   "source": [
    "import numpy as np\n",
    "import hapa.units as units\n",
    "\n",
    "%load_ext autoreload\n",
    "%autoreload 2\n",
    "\n",
    "\n",
    "%timeit my_unit = units.s * units.m\n",
    "\n",
    "#%timeit old_unit = units.Unit(m=1, s=-1, km=3)\n",
    "#velocity = Quantity(1.2, units.m / units.s)\n",
    "#new_unit = units.m / units.s\n",
    "\n",
    "#mass = Quantity(3.0, units.Msun)\n",
    "\n",
    "#velocity._reduce()\n",
    "#print(velocity)\n",
    "\n",
    "#print(\"coucou\")\n",
    "#%timeit my_unit = units.km / units.s\n",
    "#%timeit velocity.value * 100.\n",
    "#mass/velocity\n",
    "\n"
   ]
  },
  {
   "cell_type": "code",
   "execution_count": null,
   "metadata": {},
   "outputs": [],
   "source": []
  }
 ],
 "metadata": {
  "kernelspec": {
   "display_name": "Python 3 (ipykernel)",
   "language": "python",
   "name": "python3"
  },
  "language_info": {
   "codemirror_mode": {
    "name": "ipython",
    "version": 3
   },
   "file_extension": ".py",
   "mimetype": "text/x-python",
   "name": "python",
   "nbconvert_exporter": "python",
   "pygments_lexer": "ipython3",
   "version": "3.10.11"
  },
  "vscode": {
   "interpreter": {
    "hash": "31f2aee4e71d21fbe5cf8b01ff0e069b9275f58929596ceb00d14d90e3e16cd6"
   }
  }
 },
 "nbformat": 4,
 "nbformat_minor": 5
}
